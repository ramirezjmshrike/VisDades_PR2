{
 "cells": [
  {
   "cell_type": "code",
   "execution_count": 6,
   "id": "de184472",
   "metadata": {},
   "outputs": [],
   "source": [
    "import pandas as pd\n",
    "import numpy as np\n",
    "import warnings\n",
    "from glob import glob"
   ]
  },
  {
   "cell_type": "markdown",
   "id": "b2ab24a3",
   "metadata": {},
   "source": [
    "# Càrrega i neteja de les dades"
   ]
  },
  {
   "cell_type": "code",
   "execution_count": 18,
   "id": "f7ef1ec9",
   "metadata": {},
   "outputs": [],
   "source": [
    "warnings.filterwarnings(action='ignore', category=FutureWarning, \n",
    "                        message=r\".*Use a DatetimeIndex.*\")\n",
    "\n",
    "warnings.filterwarnings(action='ignore', category=UserWarning)\n",
    "pd.options.mode.copy_on_write = True"
   ]
  },
  {
   "cell_type": "code",
   "execution_count": null,
   "id": "c80e4025",
   "metadata": {},
   "outputs": [
    {
     "name": "stderr",
     "output_type": "stream",
     "text": [
      "C:\\Users\\JM_Data_Science\\AppData\\Local\\Temp\\ipykernel_17612\\1965815548.py:6: FutureWarning: Support for nested sequences for 'parse_dates' in pd.read_csv is deprecated. Combine the desired columns with pd.to_datetime after parsing instead.\n",
      "  df = pd.read_csv(file, parse_dates=[[\"DIA_DATA_ALTA\", \"MES_DATA_ALTA\", \"ANY_DATA_ALTA\"]], date_format=\"mixed\", dayfirst=True)\n",
      "C:\\Users\\JM_Data_Science\\AppData\\Local\\Temp\\ipykernel_17612\\1965815548.py:6: FutureWarning: Support for nested sequences for 'parse_dates' in pd.read_csv is deprecated. Combine the desired columns with pd.to_datetime after parsing instead.\n",
      "  df = pd.read_csv(file, parse_dates=[[\"DIA_DATA_ALTA\", \"MES_DATA_ALTA\", \"ANY_DATA_ALTA\"]], date_format=\"mixed\", dayfirst=True)\n",
      "C:\\Users\\JM_Data_Science\\AppData\\Local\\Temp\\ipykernel_17612\\1965815548.py:6: DtypeWarning: Columns (18) have mixed types. Specify dtype option on import or set low_memory=False.\n",
      "  df = pd.read_csv(file, parse_dates=[[\"DIA_DATA_ALTA\", \"MES_DATA_ALTA\", \"ANY_DATA_ALTA\"]], date_format=\"mixed\", dayfirst=True)\n"
     ]
    },
    {
     "name": "stdout",
     "output_type": "stream",
     "text": [
      "<class 'pandas.core.frame.DataFrame'>\n",
      "Index: 496698 entries, 0 to 249241\n",
      "Data columns (total 8 columns):\n",
      " #   Column     Non-Null Count   Dtype         \n",
      "---  ------     --------------   -----         \n",
      " 0   FITXA_ID   496698 non-null  int64         \n",
      " 1   TIPUS      496698 non-null  object        \n",
      " 2   AREA       496698 non-null  object        \n",
      " 3   ELEMENT    496698 non-null  object        \n",
      " 4   DETALL     496698 non-null  object        \n",
      " 5   DATA_ALTA  496698 non-null  datetime64[ns]\n",
      " 6   DISTRICTE  319530 non-null  object        \n",
      " 7   BARRI      319075 non-null  object        \n",
      "dtypes: datetime64[ns](1), int64(1), object(6)\n",
      "memory usage: 34.1+ MB\n"
     ]
    }
   ],
   "source": [
    "path_iris = 'data/comunicacions'\n",
    "cat_vars = ['TIPUS', 'AREA', 'ELEMENT', 'DETALL', 'DISTRICTE', 'BARRI']\n",
    "lst_dfs = []\n",
    "\n",
    "for file in glob('/'.join([path_iris, '*.csv'])):\n",
    "    df = pd.read_csv(file, parse_dates=[[\"DIA_DATA_ALTA\", \"MES_DATA_ALTA\", \"ANY_DATA_ALTA\"]], date_format=\"mixed\", dayfirst=True)\n",
    "    df['DATA_ALTA'] = df['DIA_DATA_ALTA_MES_DATA_ALTA_ANY_DATA_ALTA']\n",
    "    \n",
    "    for col in cat_vars:\n",
    "        df[col] = df[col].str.replace('\"\"', '')\n",
    "    \n",
    "    lst_dfs.append(df)\n",
    "\n",
    "data_iris = pd.concat(lst_dfs, axis=0)\n",
    "data_iris = data_iris[[\"FITXA_ID\",\"TIPUS\",\"AREA\",\"ELEMENT\",\"DETALL\",\n",
    "                       'DATA_ALTA',\n",
    "                       \"DISTRICTE\",\"BARRI\"]]\n",
    "\n",
    "data_iris.info()"
   ]
  },
  {
   "cell_type": "code",
   "execution_count": 50,
   "id": "817bdb92",
   "metadata": {},
   "outputs": [
    {
     "name": "stdout",
     "output_type": "stream",
     "text": [
      "Una vegada realitzada la neteja de les dades, disposem de 318251 comunicacions, de les que 128860 són referents a temàtiques relacionadas amb la neteja municipal.\n"
     ]
    }
   ],
   "source": [
    "districtes = ['Ciutat Vella', 'Eixample', 'Sants-Montjuïc', 'Les Corts', 'Sarrià-Sant Gervasi', 'Gràcia', 'Horta-Guinardó', 'Nou Barris', 'Sant Andreu', 'Sant Martí']\n",
    "mask_districtes = data_iris.DISTRICTE.isin(districtes)\n",
    "data_iris = data_iris[mask_districtes]\n",
    "\n",
    "data_iris = data_iris.dropna(axis=0, subset=['DISTRICTE', 'BARRI', 'ELEMENT'])\n",
    "\n",
    "buit_mask = data_iris.BARRI == '\"'\n",
    "data_iris = data_iris[buit_mask == False]\n",
    "\n",
    "n_iris_clean = len(data_iris)\n",
    "\n",
    "classes_neteja = [\"Recollida animals morts\", \"Recollida comercial\", \n",
    "                  \"Recollida de mobles i trastos vells\", \"Recollida de poda al domicili\", \n",
    "                  \"Recollida i neteja de l’espai urbà\", \"Recollida orgànic / rebuig\",\n",
    "                  \"Recollida paper cartró/vidre/reciclables\",\n",
    "                  \"Recollida pneumàtica\", \"Recollida roba domiciliària\", \"Recollida selectiva mòbil\",\n",
    "                  \"Recollida selectiva porta a porta\", \"Cont. intel.residus orgànics\", \"Neteja\",\n",
    "                  \"Neteja carrers i/o places\", \"Papereres\", \"Implantació de la nova contracta neteja\",\n",
    "                  \"Lavabo públic\", \"Punts verds\", \"Neteja solar municipal\", \"Platges neteja\"]\n",
    "mask_neteja = data_iris.ELEMENT.isin(classes_neteja)\n",
    "\n",
    "data_neteja = data_iris[mask_neteja]\n",
    "\n",
    "n_neteja = len(data_neteja)\n",
    "\n",
    "print(f\"Una vegada realitzada la neteja de les dades, disposem de {n_iris_clean} comunicacions, de les que {n_neteja} són referents a temàtiques relacionadas amb la neteja municipal.\")\n"
   ]
  },
  {
   "cell_type": "code",
   "execution_count": 51,
   "id": "9accdbf1",
   "metadata": {},
   "outputs": [
    {
     "data": {
      "application/vnd.microsoft.datawrangler.viewer.v0+json": {
       "columns": [
        {
         "name": "index",
         "rawType": "int64",
         "type": "integer"
        },
        {
         "name": "FITXA_ID",
         "rawType": "int64",
         "type": "integer"
        },
        {
         "name": "TIPUS",
         "rawType": "object",
         "type": "string"
        },
        {
         "name": "AREA",
         "rawType": "object",
         "type": "string"
        },
        {
         "name": "ELEMENT",
         "rawType": "object",
         "type": "string"
        },
        {
         "name": "DETALL",
         "rawType": "object",
         "type": "string"
        },
        {
         "name": "DATA_ALTA",
         "rawType": "datetime64[ns]",
         "type": "datetime"
        },
        {
         "name": "DISTRICTE",
         "rawType": "object",
         "type": "string"
        },
        {
         "name": "BARRI",
         "rawType": "object",
         "type": "string"
        }
       ],
       "ref": "245cd486-8c1e-4534-95a8-6727b3fd90d7",
       "rows": [
        [
         "0",
         "23314205",
         "INCIDENCIA",
         "Recollida i neteja de l'espai urbà",
         "Neteja carrers i/o places",
         "Objectes a netejar / retirar",
         "2022-12-22 00:00:00",
         "Horta-Guinardó",
         "Horta"
        ],
        [
         "1",
         "23314208",
         "INCIDENCIA",
         "Recollida i neteja de l'espai urbà",
         "Neteja carrers i/o places",
         "Objectes a netejar / retirar",
         "2022-12-22 00:00:00",
         "Horta-Guinardó",
         "Horta"
        ],
        [
         "3",
         "23314206",
         "INCIDENCIA",
         "Recollida i neteja de l'espai urbà",
         "Neteja carrers i/o places",
         "Objectes a netejar / retirar",
         "2022-12-22 00:00:00",
         "Horta-Guinardó",
         "la Teixonera"
        ],
        [
         "58",
         "23329218",
         "INCIDENCIA",
         "Recollida i neteja de l'espai urbà",
         "Neteja carrers i/o places",
         "Objectes a netejar / retirar",
         "2023-01-01 00:00:00",
         "Eixample",
         "la Sagrada Família"
        ],
        [
         "60",
         "23329217",
         "INCIDENCIA",
         "Recollida i neteja de l'espai urbà",
         "Neteja carrers i/o places",
         "Objectes a netejar / retirar",
         "2023-01-01 00:00:00",
         "Eixample",
         "l'Antiga Esquerra de l'Eixample"
        ]
       ],
       "shape": {
        "columns": 8,
        "rows": 5
       }
      },
      "text/html": [
       "<div>\n",
       "<style scoped>\n",
       "    .dataframe tbody tr th:only-of-type {\n",
       "        vertical-align: middle;\n",
       "    }\n",
       "\n",
       "    .dataframe tbody tr th {\n",
       "        vertical-align: top;\n",
       "    }\n",
       "\n",
       "    .dataframe thead th {\n",
       "        text-align: right;\n",
       "    }\n",
       "</style>\n",
       "<table border=\"1\" class=\"dataframe\">\n",
       "  <thead>\n",
       "    <tr style=\"text-align: right;\">\n",
       "      <th></th>\n",
       "      <th>FITXA_ID</th>\n",
       "      <th>TIPUS</th>\n",
       "      <th>AREA</th>\n",
       "      <th>ELEMENT</th>\n",
       "      <th>DETALL</th>\n",
       "      <th>DATA_ALTA</th>\n",
       "      <th>DISTRICTE</th>\n",
       "      <th>BARRI</th>\n",
       "    </tr>\n",
       "  </thead>\n",
       "  <tbody>\n",
       "    <tr>\n",
       "      <th>0</th>\n",
       "      <td>23314205</td>\n",
       "      <td>INCIDENCIA</td>\n",
       "      <td>Recollida i neteja de l'espai urbà</td>\n",
       "      <td>Neteja carrers i/o places</td>\n",
       "      <td>Objectes a netejar / retirar</td>\n",
       "      <td>2022-12-22</td>\n",
       "      <td>Horta-Guinardó</td>\n",
       "      <td>Horta</td>\n",
       "    </tr>\n",
       "    <tr>\n",
       "      <th>1</th>\n",
       "      <td>23314208</td>\n",
       "      <td>INCIDENCIA</td>\n",
       "      <td>Recollida i neteja de l'espai urbà</td>\n",
       "      <td>Neteja carrers i/o places</td>\n",
       "      <td>Objectes a netejar / retirar</td>\n",
       "      <td>2022-12-22</td>\n",
       "      <td>Horta-Guinardó</td>\n",
       "      <td>Horta</td>\n",
       "    </tr>\n",
       "    <tr>\n",
       "      <th>3</th>\n",
       "      <td>23314206</td>\n",
       "      <td>INCIDENCIA</td>\n",
       "      <td>Recollida i neteja de l'espai urbà</td>\n",
       "      <td>Neteja carrers i/o places</td>\n",
       "      <td>Objectes a netejar / retirar</td>\n",
       "      <td>2022-12-22</td>\n",
       "      <td>Horta-Guinardó</td>\n",
       "      <td>la Teixonera</td>\n",
       "    </tr>\n",
       "    <tr>\n",
       "      <th>58</th>\n",
       "      <td>23329218</td>\n",
       "      <td>INCIDENCIA</td>\n",
       "      <td>Recollida i neteja de l'espai urbà</td>\n",
       "      <td>Neteja carrers i/o places</td>\n",
       "      <td>Objectes a netejar / retirar</td>\n",
       "      <td>2023-01-01</td>\n",
       "      <td>Eixample</td>\n",
       "      <td>la Sagrada Família</td>\n",
       "    </tr>\n",
       "    <tr>\n",
       "      <th>60</th>\n",
       "      <td>23329217</td>\n",
       "      <td>INCIDENCIA</td>\n",
       "      <td>Recollida i neteja de l'espai urbà</td>\n",
       "      <td>Neteja carrers i/o places</td>\n",
       "      <td>Objectes a netejar / retirar</td>\n",
       "      <td>2023-01-01</td>\n",
       "      <td>Eixample</td>\n",
       "      <td>l'Antiga Esquerra de l'Eixample</td>\n",
       "    </tr>\n",
       "  </tbody>\n",
       "</table>\n",
       "</div>"
      ],
      "text/plain": [
       "    FITXA_ID       TIPUS                                AREA  \\\n",
       "0   23314205  INCIDENCIA  Recollida i neteja de l'espai urbà   \n",
       "1   23314208  INCIDENCIA  Recollida i neteja de l'espai urbà   \n",
       "3   23314206  INCIDENCIA  Recollida i neteja de l'espai urbà   \n",
       "58  23329218  INCIDENCIA  Recollida i neteja de l'espai urbà   \n",
       "60  23329217  INCIDENCIA  Recollida i neteja de l'espai urbà   \n",
       "\n",
       "                      ELEMENT                        DETALL  DATA_ALTA  \\\n",
       "0   Neteja carrers i/o places  Objectes a netejar / retirar 2022-12-22   \n",
       "1   Neteja carrers i/o places  Objectes a netejar / retirar 2022-12-22   \n",
       "3   Neteja carrers i/o places  Objectes a netejar / retirar 2022-12-22   \n",
       "58  Neteja carrers i/o places  Objectes a netejar / retirar 2023-01-01   \n",
       "60  Neteja carrers i/o places  Objectes a netejar / retirar 2023-01-01   \n",
       "\n",
       "         DISTRICTE                            BARRI  \n",
       "0   Horta-Guinardó                            Horta  \n",
       "1   Horta-Guinardó                            Horta  \n",
       "3   Horta-Guinardó                     la Teixonera  \n",
       "58        Eixample               la Sagrada Família  \n",
       "60        Eixample  l'Antiga Esquerra de l'Eixample  "
      ]
     },
     "execution_count": 51,
     "metadata": {},
     "output_type": "execute_result"
    }
   ],
   "source": [
    "data_neteja.head()"
   ]
  },
  {
   "cell_type": "markdown",
   "id": "14655a8e",
   "metadata": {},
   "source": [
    "Metadades on s'informa de la codificació per gènere 1 = Dona i 2 = Home:\n",
    "\n",
    "https://opendata-ajuntament.barcelona.cat/data/ca/dataset/pad-dimensions/resource/b00be3f8-9328-4175-8689-24a25bc0907c\n"
   ]
  },
  {
   "cell_type": "code",
   "execution_count": 104,
   "id": "8f6a3ad2",
   "metadata": {},
   "outputs": [
    {
     "name": "stdout",
     "output_type": "stream",
     "text": [
      "<class 'pandas.core.frame.DataFrame'>\n",
      "Index: 4272 entries, 0 to 2135\n",
      "Data columns (total 9 columns):\n",
      " #   Column           Non-Null Count  Dtype \n",
      "---  ------           --------------  ----- \n",
      " 0   Data_Referencia  4272 non-null   object\n",
      " 1   Codi_Districte   4272 non-null   int64 \n",
      " 2   Nom_Districte    4272 non-null   object\n",
      " 3   Codi_Barri       4272 non-null   int64 \n",
      " 4   Nom_Barri        4272 non-null   object\n",
      " 5   AEB              4272 non-null   int64 \n",
      " 6   Seccio_Censal    4272 non-null   int64 \n",
      " 7   Valor            4272 non-null   int64 \n",
      " 8   SEXE             4272 non-null   int64 \n",
      "dtypes: int64(6), object(3)\n",
      "memory usage: 333.8+ KB\n"
     ]
    }
   ],
   "source": [
    "path_demografia = 'data/demografia'\n",
    "lst_dfs = []\n",
    "\n",
    "for file in glob('/'.join([path_demografia, '*.csv'])):\n",
    "    df = pd.read_csv(file)\n",
    "    lst_dfs.append(df)\n",
    "\n",
    "data_demografia = pd.concat(lst_dfs)\n",
    "\n",
    "data_demografia.info()"
   ]
  },
  {
   "cell_type": "code",
   "execution_count": 105,
   "id": "0b134436",
   "metadata": {},
   "outputs": [],
   "source": [
    "data_demografia['Any_Referencia'] = data_demografia.Data_Referencia.str.split(\"-\", n=1, expand=True)[0]\n",
    "\n",
    "mask_Homes = data_demografia.SEXE == 2\n",
    "data_demografia['SEXE_DESCODIF'] = \"Dones\"\n",
    "data_demografia.loc[mask_Homes, 'SEXE_DESCODIF'] = \"Homes\"\n",
    "\n",
    "data_demografia = data_demografia[['Any_Referencia', 'Nom_Districte', 'Nom_Barri', 'Valor', 'SEXE_DESCODIF']]"
   ]
  },
  {
   "cell_type": "code",
   "execution_count": 106,
   "id": "a3d81c6b",
   "metadata": {},
   "outputs": [
    {
     "data": {
      "application/vnd.microsoft.datawrangler.viewer.v0+json": {
       "columns": [
        {
         "name": "index",
         "rawType": "int64",
         "type": "integer"
        },
        {
         "name": "Any_Referencia",
         "rawType": "object",
         "type": "string"
        },
        {
         "name": "Nom_Districte",
         "rawType": "object",
         "type": "string"
        },
        {
         "name": "Nom_Barri",
         "rawType": "object",
         "type": "string"
        },
        {
         "name": "Valor",
         "rawType": "int64",
         "type": "integer"
        },
        {
         "name": "SEXE_DESCODIF",
         "rawType": "object",
         "type": "string"
        }
       ],
       "ref": "31197728-b616-493c-8bd6-fd2e8d6f9839",
       "rows": [
        [
         "0",
         "2023",
         "Ciutat Vella",
         "el Raval",
         "606",
         "Dones"
        ],
        [
         "1",
         "2023",
         "Ciutat Vella",
         "el Raval",
         "640",
         "Homes"
        ],
        [
         "2",
         "2023",
         "Ciutat Vella",
         "el Raval",
         "588",
         "Dones"
        ],
        [
         "3",
         "2023",
         "Ciutat Vella",
         "el Raval",
         "650",
         "Homes"
        ],
        [
         "4",
         "2023",
         "Ciutat Vella",
         "el Raval",
         "1555",
         "Dones"
        ]
       ],
       "shape": {
        "columns": 5,
        "rows": 5
       }
      },
      "text/html": [
       "<div>\n",
       "<style scoped>\n",
       "    .dataframe tbody tr th:only-of-type {\n",
       "        vertical-align: middle;\n",
       "    }\n",
       "\n",
       "    .dataframe tbody tr th {\n",
       "        vertical-align: top;\n",
       "    }\n",
       "\n",
       "    .dataframe thead th {\n",
       "        text-align: right;\n",
       "    }\n",
       "</style>\n",
       "<table border=\"1\" class=\"dataframe\">\n",
       "  <thead>\n",
       "    <tr style=\"text-align: right;\">\n",
       "      <th></th>\n",
       "      <th>Any_Referencia</th>\n",
       "      <th>Nom_Districte</th>\n",
       "      <th>Nom_Barri</th>\n",
       "      <th>Valor</th>\n",
       "      <th>SEXE_DESCODIF</th>\n",
       "    </tr>\n",
       "  </thead>\n",
       "  <tbody>\n",
       "    <tr>\n",
       "      <th>0</th>\n",
       "      <td>2023</td>\n",
       "      <td>Ciutat Vella</td>\n",
       "      <td>el Raval</td>\n",
       "      <td>606</td>\n",
       "      <td>Dones</td>\n",
       "    </tr>\n",
       "    <tr>\n",
       "      <th>1</th>\n",
       "      <td>2023</td>\n",
       "      <td>Ciutat Vella</td>\n",
       "      <td>el Raval</td>\n",
       "      <td>640</td>\n",
       "      <td>Homes</td>\n",
       "    </tr>\n",
       "    <tr>\n",
       "      <th>2</th>\n",
       "      <td>2023</td>\n",
       "      <td>Ciutat Vella</td>\n",
       "      <td>el Raval</td>\n",
       "      <td>588</td>\n",
       "      <td>Dones</td>\n",
       "    </tr>\n",
       "    <tr>\n",
       "      <th>3</th>\n",
       "      <td>2023</td>\n",
       "      <td>Ciutat Vella</td>\n",
       "      <td>el Raval</td>\n",
       "      <td>650</td>\n",
       "      <td>Homes</td>\n",
       "    </tr>\n",
       "    <tr>\n",
       "      <th>4</th>\n",
       "      <td>2023</td>\n",
       "      <td>Ciutat Vella</td>\n",
       "      <td>el Raval</td>\n",
       "      <td>1555</td>\n",
       "      <td>Dones</td>\n",
       "    </tr>\n",
       "  </tbody>\n",
       "</table>\n",
       "</div>"
      ],
      "text/plain": [
       "  Any_Referencia Nom_Districte Nom_Barri  Valor SEXE_DESCODIF\n",
       "0           2023  Ciutat Vella  el Raval    606         Dones\n",
       "1           2023  Ciutat Vella  el Raval    640         Homes\n",
       "2           2023  Ciutat Vella  el Raval    588         Dones\n",
       "3           2023  Ciutat Vella  el Raval    650         Homes\n",
       "4           2023  Ciutat Vella  el Raval   1555         Dones"
      ]
     },
     "execution_count": 106,
     "metadata": {},
     "output_type": "execute_result"
    }
   ],
   "source": [
    "data_demografia.head()"
   ]
  },
  {
   "cell_type": "code",
   "execution_count": 55,
   "id": "2f85e475",
   "metadata": {},
   "outputs": [
    {
     "name": "stdout",
     "output_type": "stream",
     "text": [
      "<class 'pandas.core.frame.DataFrame'>\n",
      "RangeIndex: 73 entries, 0 to 72\n",
      "Data columns (total 6 columns):\n",
      " #   Column           Non-Null Count  Dtype  \n",
      "---  ------           --------------  -----  \n",
      " 0   Any              73 non-null     int64  \n",
      " 1   Codi_Districte   73 non-null     int64  \n",
      " 2   Nom_Districte    73 non-null     object \n",
      " 3   Codi_Barri       73 non-null     int64  \n",
      " 4   Nom_Barri        73 non-null     object \n",
      " 5   Superfície (ha)  73 non-null     float64\n",
      "dtypes: float64(1), int64(3), object(2)\n",
      "memory usage: 3.6+ KB\n"
     ]
    }
   ],
   "source": [
    "data_superficie = pd.read_csv('data/2021_superficie.csv')\n",
    "\n",
    "data_superficie.info()"
   ]
  },
  {
   "cell_type": "code",
   "execution_count": 121,
   "id": "db7539f1",
   "metadata": {},
   "outputs": [],
   "source": [
    "data_superficie = data_superficie[['Nom_Districte', 'Nom_Barri', 'Superfície (ha)']]\n",
    "data_superficie.columns = ['Nom_Districte', 'Nom_Barri', 'Superficie']"
   ]
  },
  {
   "cell_type": "code",
   "execution_count": 122,
   "id": "ec236eed",
   "metadata": {},
   "outputs": [
    {
     "data": {
      "application/vnd.microsoft.datawrangler.viewer.v0+json": {
       "columns": [
        {
         "name": "index",
         "rawType": "int64",
         "type": "integer"
        },
        {
         "name": "Nom_Districte",
         "rawType": "object",
         "type": "string"
        },
        {
         "name": "Nom_Barri",
         "rawType": "object",
         "type": "string"
        },
        {
         "name": "Superficie",
         "rawType": "float64",
         "type": "float"
        }
       ],
       "ref": "ed78ea4e-dd40-47ad-8dcd-43e3ae397839",
       "rows": [
        [
         "0",
         "Ciutat Vella",
         "el Raval",
         "110.0"
        ],
        [
         "1",
         "Ciutat Vella",
         "el Barri Gòtic",
         "81.6"
        ],
        [
         "2",
         "Ciutat Vella",
         "la Barceloneta",
         "117.9"
        ],
        [
         "3",
         "Ciutat Vella",
         "Sant Pere, Santa Caterina i la Ribera",
         "111.0"
        ],
        [
         "4",
         "Eixample",
         "el Fort Pienc",
         "92.9"
        ]
       ],
       "shape": {
        "columns": 3,
        "rows": 5
       }
      },
      "text/html": [
       "<div>\n",
       "<style scoped>\n",
       "    .dataframe tbody tr th:only-of-type {\n",
       "        vertical-align: middle;\n",
       "    }\n",
       "\n",
       "    .dataframe tbody tr th {\n",
       "        vertical-align: top;\n",
       "    }\n",
       "\n",
       "    .dataframe thead th {\n",
       "        text-align: right;\n",
       "    }\n",
       "</style>\n",
       "<table border=\"1\" class=\"dataframe\">\n",
       "  <thead>\n",
       "    <tr style=\"text-align: right;\">\n",
       "      <th></th>\n",
       "      <th>Nom_Districte</th>\n",
       "      <th>Nom_Barri</th>\n",
       "      <th>Superficie</th>\n",
       "    </tr>\n",
       "  </thead>\n",
       "  <tbody>\n",
       "    <tr>\n",
       "      <th>0</th>\n",
       "      <td>Ciutat Vella</td>\n",
       "      <td>el Raval</td>\n",
       "      <td>110.0</td>\n",
       "    </tr>\n",
       "    <tr>\n",
       "      <th>1</th>\n",
       "      <td>Ciutat Vella</td>\n",
       "      <td>el Barri Gòtic</td>\n",
       "      <td>81.6</td>\n",
       "    </tr>\n",
       "    <tr>\n",
       "      <th>2</th>\n",
       "      <td>Ciutat Vella</td>\n",
       "      <td>la Barceloneta</td>\n",
       "      <td>117.9</td>\n",
       "    </tr>\n",
       "    <tr>\n",
       "      <th>3</th>\n",
       "      <td>Ciutat Vella</td>\n",
       "      <td>Sant Pere, Santa Caterina i la Ribera</td>\n",
       "      <td>111.0</td>\n",
       "    </tr>\n",
       "    <tr>\n",
       "      <th>4</th>\n",
       "      <td>Eixample</td>\n",
       "      <td>el Fort Pienc</td>\n",
       "      <td>92.9</td>\n",
       "    </tr>\n",
       "  </tbody>\n",
       "</table>\n",
       "</div>"
      ],
      "text/plain": [
       "  Nom_Districte                              Nom_Barri  Superficie\n",
       "0  Ciutat Vella                               el Raval       110.0\n",
       "1  Ciutat Vella                         el Barri Gòtic        81.6\n",
       "2  Ciutat Vella                         la Barceloneta       117.9\n",
       "3  Ciutat Vella  Sant Pere, Santa Caterina i la Ribera       111.0\n",
       "4      Eixample                          el Fort Pienc        92.9"
      ]
     },
     "execution_count": 122,
     "metadata": {},
     "output_type": "execute_result"
    }
   ],
   "source": [
    "data_superficie.head()"
   ]
  },
  {
   "cell_type": "code",
   "execution_count": 137,
   "id": "ffe14cb9",
   "metadata": {},
   "outputs": [
    {
     "name": "stdout",
     "output_type": "stream",
     "text": [
      "<class 'pandas.core.frame.DataFrame'>\n",
      "RangeIndex: 252 entries, 0 to 251\n",
      "Data columns (total 16 columns):\n",
      " #   Column              Non-Null Count  Dtype \n",
      "---  ------              --------------  ----- \n",
      " 0   Territori           252 non-null    object\n",
      " 1   Tipus de territori  252 non-null    object\n",
      " 2   Ús                  252 non-null    object\n",
      " 3   2010                252 non-null    object\n",
      " 4   2011                252 non-null    object\n",
      " 5   2012                252 non-null    object\n",
      " 6   2013                252 non-null    object\n",
      " 7   2014                252 non-null    object\n",
      " 8   2015                252 non-null    object\n",
      " 9   2016                252 non-null    object\n",
      " 10  2017                252 non-null    object\n",
      " 11  2018                252 non-null    object\n",
      " 12  2019                252 non-null    object\n",
      " 13  2020                252 non-null    object\n",
      " 14  2021                252 non-null    object\n",
      " 15  2022                252 non-null    object\n",
      "dtypes: object(16)\n",
      "memory usage: 31.6+ KB\n"
     ]
    }
   ],
   "source": [
    "data_prop_usos = pd.read_csv(\"data/Taula_prop_usos_sol.csv\")\n",
    "\n",
    "data_prop_usos.info()\n"
   ]
  },
  {
   "cell_type": "code",
   "execution_count": 138,
   "id": "f6f16e46",
   "metadata": {},
   "outputs": [
    {
     "data": {
      "application/vnd.microsoft.datawrangler.viewer.v0+json": {
       "columns": [
        {
         "name": "index",
         "rawType": "int64",
         "type": "integer"
        },
        {
         "name": "Territori",
         "rawType": "object",
         "type": "string"
        },
        {
         "name": "2022",
         "rawType": "object",
         "type": "string"
        }
       ],
       "ref": "14172d61-96ec-4670-af74-da11aba9d7bd",
       "rows": [
        [
         "0",
         "Barcelona",
         "25.47"
        ],
        [
         "3",
         "Ciutat Vella",
         "30.84"
        ],
        [
         "18",
         "Eixample",
         "49.83"
        ],
        [
         "39",
         "Sants-Montjuïc",
         "10.93"
        ],
        [
         "66",
         "Les Corts",
         "29.66"
        ],
        [
         "78",
         "Sarrià-Sant Gervasi",
         "22.72"
        ],
        [
         "99",
         "Gràcia",
         "48.06"
        ],
        [
         "117",
         "Horta-Guinardó",
         "24.31"
        ],
        [
         "153",
         "Nou Barris",
         "28.63"
        ],
        [
         "195",
         "Sant Andreu (Districte)",
         "28.96"
        ],
        [
         "219",
         "Sant Martí",
         "28.11"
        ]
       ],
       "shape": {
        "columns": 2,
        "rows": 11
       }
      },
      "text/html": [
       "<div>\n",
       "<style scoped>\n",
       "    .dataframe tbody tr th:only-of-type {\n",
       "        vertical-align: middle;\n",
       "    }\n",
       "\n",
       "    .dataframe tbody tr th {\n",
       "        vertical-align: top;\n",
       "    }\n",
       "\n",
       "    .dataframe thead th {\n",
       "        text-align: right;\n",
       "    }\n",
       "</style>\n",
       "<table border=\"1\" class=\"dataframe\">\n",
       "  <thead>\n",
       "    <tr style=\"text-align: right;\">\n",
       "      <th></th>\n",
       "      <th>Territori</th>\n",
       "      <th>2022</th>\n",
       "    </tr>\n",
       "  </thead>\n",
       "  <tbody>\n",
       "    <tr>\n",
       "      <th>0</th>\n",
       "      <td>Barcelona</td>\n",
       "      <td>25.47</td>\n",
       "    </tr>\n",
       "    <tr>\n",
       "      <th>3</th>\n",
       "      <td>Ciutat Vella</td>\n",
       "      <td>30.84</td>\n",
       "    </tr>\n",
       "    <tr>\n",
       "      <th>18</th>\n",
       "      <td>Eixample</td>\n",
       "      <td>49.83</td>\n",
       "    </tr>\n",
       "    <tr>\n",
       "      <th>39</th>\n",
       "      <td>Sants-Montjuïc</td>\n",
       "      <td>10.93</td>\n",
       "    </tr>\n",
       "    <tr>\n",
       "      <th>66</th>\n",
       "      <td>Les Corts</td>\n",
       "      <td>29.66</td>\n",
       "    </tr>\n",
       "    <tr>\n",
       "      <th>78</th>\n",
       "      <td>Sarrià-Sant Gervasi</td>\n",
       "      <td>22.72</td>\n",
       "    </tr>\n",
       "    <tr>\n",
       "      <th>99</th>\n",
       "      <td>Gràcia</td>\n",
       "      <td>48.06</td>\n",
       "    </tr>\n",
       "    <tr>\n",
       "      <th>117</th>\n",
       "      <td>Horta-Guinardó</td>\n",
       "      <td>24.31</td>\n",
       "    </tr>\n",
       "    <tr>\n",
       "      <th>153</th>\n",
       "      <td>Nou Barris</td>\n",
       "      <td>28.63</td>\n",
       "    </tr>\n",
       "    <tr>\n",
       "      <th>195</th>\n",
       "      <td>Sant Andreu (Districte)</td>\n",
       "      <td>28.96</td>\n",
       "    </tr>\n",
       "    <tr>\n",
       "      <th>219</th>\n",
       "      <td>Sant Martí</td>\n",
       "      <td>28.11</td>\n",
       "    </tr>\n",
       "  </tbody>\n",
       "</table>\n",
       "</div>"
      ],
      "text/plain": [
       "                   Territori   2022\n",
       "0                  Barcelona  25.47\n",
       "3               Ciutat Vella  30.84\n",
       "18                  Eixample  49.83\n",
       "39            Sants-Montjuïc  10.93\n",
       "66                 Les Corts  29.66\n",
       "78       Sarrià-Sant Gervasi  22.72\n",
       "99                    Gràcia  48.06\n",
       "117           Horta-Guinardó  24.31\n",
       "153               Nou Barris  28.63\n",
       "195  Sant Andreu (Districte)  28.96\n",
       "219               Sant Martí  28.11"
      ]
     },
     "execution_count": 138,
     "metadata": {},
     "output_type": "execute_result"
    }
   ],
   "source": [
    "mask_residencial = data_prop_usos['Ús'] == \"Residencial\"\n",
    "data_prop_residencial = data_prop_usos[mask_residencial]\n",
    "\n",
    "mask_dash = data_prop_residencial['2022'] == \"-\"\n",
    "data_prop_residencial[['Territori', '2022']][mask_dash == False]\n"
   ]
  },
  {
   "cell_type": "markdown",
   "id": "bcf76c32",
   "metadata": {},
   "source": [
    "Només prendrem en consideració les proporcions calculades per l'any 2021 atès que aquestes sí les disposem de forma completa per tots els barris."
   ]
  },
  {
   "cell_type": "code",
   "execution_count": 139,
   "id": "34d642c7",
   "metadata": {},
   "outputs": [
    {
     "data": {
      "application/vnd.microsoft.datawrangler.viewer.v0+json": {
       "columns": [
        {
         "name": "index",
         "rawType": "int64",
         "type": "integer"
        },
        {
         "name": "Territori",
         "rawType": "object",
         "type": "string"
        },
        {
         "name": "Tipus de territori",
         "rawType": "object",
         "type": "string"
        },
        {
         "name": "Ús",
         "rawType": "object",
         "type": "string"
        },
        {
         "name": "2021",
         "rawType": "object",
         "type": "string"
        }
       ],
       "ref": "c3e4b67d-983a-416d-8c0a-5945e7812a0d",
       "rows": [
        [
         "0",
         "Barcelona",
         "Municipi",
         "Residencial",
         "27.09"
        ],
        [
         "3",
         "Ciutat Vella",
         "Districte",
         "Residencial",
         "31.46"
        ],
        [
         "6",
         "el Raval",
         "Barri",
         "Residencial",
         "45.07"
        ],
        [
         "9",
         "el Barri Gòtic",
         "Barri",
         "Residencial",
         "41.85"
        ],
        [
         "12",
         "la Barceloneta",
         "Barri",
         "Residencial",
         "12.36"
        ]
       ],
       "shape": {
        "columns": 4,
        "rows": 5
       }
      },
      "text/html": [
       "<div>\n",
       "<style scoped>\n",
       "    .dataframe tbody tr th:only-of-type {\n",
       "        vertical-align: middle;\n",
       "    }\n",
       "\n",
       "    .dataframe tbody tr th {\n",
       "        vertical-align: top;\n",
       "    }\n",
       "\n",
       "    .dataframe thead th {\n",
       "        text-align: right;\n",
       "    }\n",
       "</style>\n",
       "<table border=\"1\" class=\"dataframe\">\n",
       "  <thead>\n",
       "    <tr style=\"text-align: right;\">\n",
       "      <th></th>\n",
       "      <th>Territori</th>\n",
       "      <th>Tipus de territori</th>\n",
       "      <th>Ús</th>\n",
       "      <th>2021</th>\n",
       "    </tr>\n",
       "  </thead>\n",
       "  <tbody>\n",
       "    <tr>\n",
       "      <th>0</th>\n",
       "      <td>Barcelona</td>\n",
       "      <td>Municipi</td>\n",
       "      <td>Residencial</td>\n",
       "      <td>27.09</td>\n",
       "    </tr>\n",
       "    <tr>\n",
       "      <th>3</th>\n",
       "      <td>Ciutat Vella</td>\n",
       "      <td>Districte</td>\n",
       "      <td>Residencial</td>\n",
       "      <td>31.46</td>\n",
       "    </tr>\n",
       "    <tr>\n",
       "      <th>6</th>\n",
       "      <td>el Raval</td>\n",
       "      <td>Barri</td>\n",
       "      <td>Residencial</td>\n",
       "      <td>45.07</td>\n",
       "    </tr>\n",
       "    <tr>\n",
       "      <th>9</th>\n",
       "      <td>el Barri Gòtic</td>\n",
       "      <td>Barri</td>\n",
       "      <td>Residencial</td>\n",
       "      <td>41.85</td>\n",
       "    </tr>\n",
       "    <tr>\n",
       "      <th>12</th>\n",
       "      <td>la Barceloneta</td>\n",
       "      <td>Barri</td>\n",
       "      <td>Residencial</td>\n",
       "      <td>12.36</td>\n",
       "    </tr>\n",
       "  </tbody>\n",
       "</table>\n",
       "</div>"
      ],
      "text/plain": [
       "         Territori Tipus de territori           Ús   2021\n",
       "0        Barcelona           Municipi  Residencial  27.09\n",
       "3     Ciutat Vella          Districte  Residencial  31.46\n",
       "6         el Raval              Barri  Residencial  45.07\n",
       "9   el Barri Gòtic              Barri  Residencial  41.85\n",
       "12  la Barceloneta              Barri  Residencial  12.36"
      ]
     },
     "execution_count": 139,
     "metadata": {},
     "output_type": "execute_result"
    }
   ],
   "source": [
    "data_prop_residencial = data_prop_residencial[['Territori', 'Tipus de territori', 'Ús', '2021']]\n",
    "\n",
    "data_prop_residencial.head()"
   ]
  },
  {
   "cell_type": "code",
   "execution_count": 81,
   "id": "de2abff2",
   "metadata": {},
   "outputs": [
    {
     "data": {
      "application/vnd.microsoft.datawrangler.viewer.v0+json": {
       "columns": [
        {
         "name": "index",
         "rawType": "int64",
         "type": "integer"
        },
        {
         "name": "Any",
         "rawType": "int64",
         "type": "integer"
        },
        {
         "name": "Mes",
         "rawType": "int64",
         "type": "integer"
        },
        {
         "name": "Desc_Mes",
         "rawType": "object",
         "type": "string"
        },
        {
         "name": "Precipitacions",
         "rawType": "float64",
         "type": "float"
        }
       ],
       "ref": "d92b077e-7b74-4404-928e-2867c77406dd",
       "rows": [
        [
         "2863",
         "2024",
         "8",
         "Agost",
         "17.6"
        ],
        [
         "2864",
         "2024",
         "9",
         "Setembre",
         "70.7"
        ],
        [
         "2865",
         "2024",
         "10",
         "Octubre",
         "118.5"
        ],
        [
         "2866",
         "2024",
         "11",
         "Novembre",
         "54.3"
        ],
        [
         "2867",
         "2024",
         "12",
         "Desembre",
         "38.4"
        ]
       ],
       "shape": {
        "columns": 4,
        "rows": 5
       }
      },
      "text/html": [
       "<div>\n",
       "<style scoped>\n",
       "    .dataframe tbody tr th:only-of-type {\n",
       "        vertical-align: middle;\n",
       "    }\n",
       "\n",
       "    .dataframe tbody tr th {\n",
       "        vertical-align: top;\n",
       "    }\n",
       "\n",
       "    .dataframe thead th {\n",
       "        text-align: right;\n",
       "    }\n",
       "</style>\n",
       "<table border=\"1\" class=\"dataframe\">\n",
       "  <thead>\n",
       "    <tr style=\"text-align: right;\">\n",
       "      <th></th>\n",
       "      <th>Any</th>\n",
       "      <th>Mes</th>\n",
       "      <th>Desc_Mes</th>\n",
       "      <th>Precipitacions</th>\n",
       "    </tr>\n",
       "  </thead>\n",
       "  <tbody>\n",
       "    <tr>\n",
       "      <th>2863</th>\n",
       "      <td>2024</td>\n",
       "      <td>8</td>\n",
       "      <td>Agost</td>\n",
       "      <td>17.6</td>\n",
       "    </tr>\n",
       "    <tr>\n",
       "      <th>2864</th>\n",
       "      <td>2024</td>\n",
       "      <td>9</td>\n",
       "      <td>Setembre</td>\n",
       "      <td>70.7</td>\n",
       "    </tr>\n",
       "    <tr>\n",
       "      <th>2865</th>\n",
       "      <td>2024</td>\n",
       "      <td>10</td>\n",
       "      <td>Octubre</td>\n",
       "      <td>118.5</td>\n",
       "    </tr>\n",
       "    <tr>\n",
       "      <th>2866</th>\n",
       "      <td>2024</td>\n",
       "      <td>11</td>\n",
       "      <td>Novembre</td>\n",
       "      <td>54.3</td>\n",
       "    </tr>\n",
       "    <tr>\n",
       "      <th>2867</th>\n",
       "      <td>2024</td>\n",
       "      <td>12</td>\n",
       "      <td>Desembre</td>\n",
       "      <td>38.4</td>\n",
       "    </tr>\n",
       "  </tbody>\n",
       "</table>\n",
       "</div>"
      ],
      "text/plain": [
       "       Any  Mes  Desc_Mes  Precipitacions\n",
       "2863  2024    8     Agost            17.6\n",
       "2864  2024    9  Setembre            70.7\n",
       "2865  2024   10   Octubre           118.5\n",
       "2866  2024   11  Novembre            54.3\n",
       "2867  2024   12  Desembre            38.4"
      ]
     },
     "execution_count": 81,
     "metadata": {},
     "output_type": "execute_result"
    }
   ],
   "source": [
    "data_precipitacions = pd.read_csv('data/precipitacionsbcndesde1786_2024_long.csv')\n",
    "\n",
    "data_precipitacions.tail()"
   ]
  },
  {
   "cell_type": "code",
   "execution_count": 82,
   "id": "2a5ab669",
   "metadata": {},
   "outputs": [
    {
     "data": {
      "application/vnd.microsoft.datawrangler.viewer.v0+json": {
       "columns": [
        {
         "name": "index",
         "rawType": "int64",
         "type": "integer"
        },
        {
         "name": "Any",
         "rawType": "int64",
         "type": "integer"
        },
        {
         "name": "Mes",
         "rawType": "int64",
         "type": "integer"
        },
        {
         "name": "Desc_Mes",
         "rawType": "object",
         "type": "string"
        },
        {
         "name": "Temperatura",
         "rawType": "float64",
         "type": "float"
        }
       ],
       "ref": "d425d956-4a69-460f-9c16-21e2a546b187",
       "rows": [
        [
         "2935",
         "2024",
         "8",
         "Agost",
         "26.9"
        ],
        [
         "2936",
         "2024",
         "9",
         "Setembre",
         "20.8"
        ],
        [
         "2937",
         "2024",
         "10",
         "Octubre",
         "18.2"
        ],
        [
         "2938",
         "2024",
         "11",
         "Novembre",
         "14.8"
        ],
        [
         "2939",
         "2024",
         "12",
         "Desembre",
         "10.4"
        ]
       ],
       "shape": {
        "columns": 4,
        "rows": 5
       }
      },
      "text/html": [
       "<div>\n",
       "<style scoped>\n",
       "    .dataframe tbody tr th:only-of-type {\n",
       "        vertical-align: middle;\n",
       "    }\n",
       "\n",
       "    .dataframe tbody tr th {\n",
       "        vertical-align: top;\n",
       "    }\n",
       "\n",
       "    .dataframe thead th {\n",
       "        text-align: right;\n",
       "    }\n",
       "</style>\n",
       "<table border=\"1\" class=\"dataframe\">\n",
       "  <thead>\n",
       "    <tr style=\"text-align: right;\">\n",
       "      <th></th>\n",
       "      <th>Any</th>\n",
       "      <th>Mes</th>\n",
       "      <th>Desc_Mes</th>\n",
       "      <th>Temperatura</th>\n",
       "    </tr>\n",
       "  </thead>\n",
       "  <tbody>\n",
       "    <tr>\n",
       "      <th>2935</th>\n",
       "      <td>2024</td>\n",
       "      <td>8</td>\n",
       "      <td>Agost</td>\n",
       "      <td>26.9</td>\n",
       "    </tr>\n",
       "    <tr>\n",
       "      <th>2936</th>\n",
       "      <td>2024</td>\n",
       "      <td>9</td>\n",
       "      <td>Setembre</td>\n",
       "      <td>20.8</td>\n",
       "    </tr>\n",
       "    <tr>\n",
       "      <th>2937</th>\n",
       "      <td>2024</td>\n",
       "      <td>10</td>\n",
       "      <td>Octubre</td>\n",
       "      <td>18.2</td>\n",
       "    </tr>\n",
       "    <tr>\n",
       "      <th>2938</th>\n",
       "      <td>2024</td>\n",
       "      <td>11</td>\n",
       "      <td>Novembre</td>\n",
       "      <td>14.8</td>\n",
       "    </tr>\n",
       "    <tr>\n",
       "      <th>2939</th>\n",
       "      <td>2024</td>\n",
       "      <td>12</td>\n",
       "      <td>Desembre</td>\n",
       "      <td>10.4</td>\n",
       "    </tr>\n",
       "  </tbody>\n",
       "</table>\n",
       "</div>"
      ],
      "text/plain": [
       "       Any  Mes  Desc_Mes  Temperatura\n",
       "2935  2024    8     Agost         26.9\n",
       "2936  2024    9  Setembre         20.8\n",
       "2937  2024   10   Octubre         18.2\n",
       "2938  2024   11  Novembre         14.8\n",
       "2939  2024   12  Desembre         10.4"
      ]
     },
     "execution_count": 82,
     "metadata": {},
     "output_type": "execute_result"
    }
   ],
   "source": [
    "data_temperatura = pd.read_csv('data/temperaturesbcndesde1780_2024_long.csv')\n",
    "\n",
    "data_temperatura.tail()"
   ]
  },
  {
   "cell_type": "markdown",
   "id": "b8f86b92",
   "metadata": {},
   "source": [
    "# Transformacions i agregacions"
   ]
  },
  {
   "cell_type": "code",
   "execution_count": 88,
   "id": "485aedf3",
   "metadata": {},
   "outputs": [
    {
     "data": {
      "application/vnd.microsoft.datawrangler.viewer.v0+json": {
       "columns": [
        {
         "name": "index",
         "rawType": "int64",
         "type": "integer"
        },
        {
         "name": "FITXA_ID",
         "rawType": "int64",
         "type": "integer"
        },
        {
         "name": "TIPUS",
         "rawType": "object",
         "type": "string"
        },
        {
         "name": "AREA",
         "rawType": "object",
         "type": "string"
        },
        {
         "name": "ELEMENT",
         "rawType": "object",
         "type": "string"
        },
        {
         "name": "DETALL",
         "rawType": "object",
         "type": "string"
        },
        {
         "name": "DATA_ALTA",
         "rawType": "datetime64[ns]",
         "type": "datetime"
        },
        {
         "name": "DISTRICTE",
         "rawType": "object",
         "type": "string"
        },
        {
         "name": "BARRI",
         "rawType": "object",
         "type": "string"
        },
        {
         "name": "ANY_ALTA",
         "rawType": "int64",
         "type": "integer"
        },
        {
         "name": "MES_ALTA_NOMBRE",
         "rawType": "int32",
         "type": "integer"
        },
        {
         "name": "MES_ALTA_NOM",
         "rawType": "object",
         "type": "string"
        },
        {
         "name": "TRIMESTRE_ALTA",
         "rawType": "int32",
         "type": "integer"
        }
       ],
       "ref": "d779a39f-b77b-42cd-ac50-034d5ce46926",
       "rows": [
        [
         "0",
         "23329218",
         "INCIDENCIA",
         "Recollida i neteja de l'espai urbà",
         "Neteja carrers i/o places",
         "Objectes a netejar / retirar",
         "2023-01-01 00:00:00",
         "Eixample",
         "la Sagrada Família",
         "2023",
         "1",
         "Gener",
         "1"
        ],
        [
         "1",
         "23329217",
         "INCIDENCIA",
         "Recollida i neteja de l'espai urbà",
         "Neteja carrers i/o places",
         "Objectes a netejar / retirar",
         "2023-01-01 00:00:00",
         "Eixample",
         "l'Antiga Esquerra de l'Eixample",
         "2023",
         "1",
         "Gener",
         "1"
        ],
        [
         "2",
         "23329221",
         "INCIDENCIA",
         "Recollida i neteja de l'espai urbà",
         "Neteja carrers i/o places",
         "Objectes a netejar / retirar",
         "2023-01-01 00:00:00",
         "Sarrià-Sant Gervasi",
         "Sant Gervasi - la Bonanova",
         "2023",
         "1",
         "Gener",
         "1"
        ],
        [
         "3",
         "23329211",
         "INCIDENCIA",
         "Recollida i neteja de l'espai urbà",
         "Neteja carrers i/o places",
         "Objectes a netejar / retirar",
         "2023-01-01 00:00:00",
         "Horta-Guinardó",
         "Can Baró",
         "2023",
         "1",
         "Gener",
         "1"
        ],
        [
         "4",
         "23329212",
         "INCIDENCIA",
         "Recollida i neteja de l'espai urbà",
         "Neteja carrers i/o places",
         "Objectes a netejar / retirar",
         "2023-01-01 00:00:00",
         "Horta-Guinardó",
         "el Guinardó",
         "2023",
         "1",
         "Gener",
         "1"
        ]
       ],
       "shape": {
        "columns": 12,
        "rows": 5
       }
      },
      "text/html": [
       "<div>\n",
       "<style scoped>\n",
       "    .dataframe tbody tr th:only-of-type {\n",
       "        vertical-align: middle;\n",
       "    }\n",
       "\n",
       "    .dataframe tbody tr th {\n",
       "        vertical-align: top;\n",
       "    }\n",
       "\n",
       "    .dataframe thead th {\n",
       "        text-align: right;\n",
       "    }\n",
       "</style>\n",
       "<table border=\"1\" class=\"dataframe\">\n",
       "  <thead>\n",
       "    <tr style=\"text-align: right;\">\n",
       "      <th></th>\n",
       "      <th>FITXA_ID</th>\n",
       "      <th>TIPUS</th>\n",
       "      <th>AREA</th>\n",
       "      <th>ELEMENT</th>\n",
       "      <th>DETALL</th>\n",
       "      <th>DATA_ALTA</th>\n",
       "      <th>DISTRICTE</th>\n",
       "      <th>BARRI</th>\n",
       "      <th>ANY_ALTA</th>\n",
       "      <th>MES_ALTA_NOMBRE</th>\n",
       "      <th>MES_ALTA_NOM</th>\n",
       "      <th>TRIMESTRE_ALTA</th>\n",
       "    </tr>\n",
       "  </thead>\n",
       "  <tbody>\n",
       "    <tr>\n",
       "      <th>0</th>\n",
       "      <td>23329218</td>\n",
       "      <td>INCIDENCIA</td>\n",
       "      <td>Recollida i neteja de l'espai urbà</td>\n",
       "      <td>Neteja carrers i/o places</td>\n",
       "      <td>Objectes a netejar / retirar</td>\n",
       "      <td>2023-01-01</td>\n",
       "      <td>Eixample</td>\n",
       "      <td>la Sagrada Família</td>\n",
       "      <td>2023</td>\n",
       "      <td>1</td>\n",
       "      <td>Gener</td>\n",
       "      <td>1</td>\n",
       "    </tr>\n",
       "    <tr>\n",
       "      <th>1</th>\n",
       "      <td>23329217</td>\n",
       "      <td>INCIDENCIA</td>\n",
       "      <td>Recollida i neteja de l'espai urbà</td>\n",
       "      <td>Neteja carrers i/o places</td>\n",
       "      <td>Objectes a netejar / retirar</td>\n",
       "      <td>2023-01-01</td>\n",
       "      <td>Eixample</td>\n",
       "      <td>l'Antiga Esquerra de l'Eixample</td>\n",
       "      <td>2023</td>\n",
       "      <td>1</td>\n",
       "      <td>Gener</td>\n",
       "      <td>1</td>\n",
       "    </tr>\n",
       "    <tr>\n",
       "      <th>2</th>\n",
       "      <td>23329221</td>\n",
       "      <td>INCIDENCIA</td>\n",
       "      <td>Recollida i neteja de l'espai urbà</td>\n",
       "      <td>Neteja carrers i/o places</td>\n",
       "      <td>Objectes a netejar / retirar</td>\n",
       "      <td>2023-01-01</td>\n",
       "      <td>Sarrià-Sant Gervasi</td>\n",
       "      <td>Sant Gervasi - la Bonanova</td>\n",
       "      <td>2023</td>\n",
       "      <td>1</td>\n",
       "      <td>Gener</td>\n",
       "      <td>1</td>\n",
       "    </tr>\n",
       "    <tr>\n",
       "      <th>3</th>\n",
       "      <td>23329211</td>\n",
       "      <td>INCIDENCIA</td>\n",
       "      <td>Recollida i neteja de l'espai urbà</td>\n",
       "      <td>Neteja carrers i/o places</td>\n",
       "      <td>Objectes a netejar / retirar</td>\n",
       "      <td>2023-01-01</td>\n",
       "      <td>Horta-Guinardó</td>\n",
       "      <td>Can Baró</td>\n",
       "      <td>2023</td>\n",
       "      <td>1</td>\n",
       "      <td>Gener</td>\n",
       "      <td>1</td>\n",
       "    </tr>\n",
       "    <tr>\n",
       "      <th>4</th>\n",
       "      <td>23329212</td>\n",
       "      <td>INCIDENCIA</td>\n",
       "      <td>Recollida i neteja de l'espai urbà</td>\n",
       "      <td>Neteja carrers i/o places</td>\n",
       "      <td>Objectes a netejar / retirar</td>\n",
       "      <td>2023-01-01</td>\n",
       "      <td>Horta-Guinardó</td>\n",
       "      <td>el Guinardó</td>\n",
       "      <td>2023</td>\n",
       "      <td>1</td>\n",
       "      <td>Gener</td>\n",
       "      <td>1</td>\n",
       "    </tr>\n",
       "  </tbody>\n",
       "</table>\n",
       "</div>"
      ],
      "text/plain": [
       "   FITXA_ID       TIPUS                                AREA  \\\n",
       "0  23329218  INCIDENCIA  Recollida i neteja de l'espai urbà   \n",
       "1  23329217  INCIDENCIA  Recollida i neteja de l'espai urbà   \n",
       "2  23329221  INCIDENCIA  Recollida i neteja de l'espai urbà   \n",
       "3  23329211  INCIDENCIA  Recollida i neteja de l'espai urbà   \n",
       "4  23329212  INCIDENCIA  Recollida i neteja de l'espai urbà   \n",
       "\n",
       "                     ELEMENT                        DETALL  DATA_ALTA  \\\n",
       "0  Neteja carrers i/o places  Objectes a netejar / retirar 2023-01-01   \n",
       "1  Neteja carrers i/o places  Objectes a netejar / retirar 2023-01-01   \n",
       "2  Neteja carrers i/o places  Objectes a netejar / retirar 2023-01-01   \n",
       "3  Neteja carrers i/o places  Objectes a netejar / retirar 2023-01-01   \n",
       "4  Neteja carrers i/o places  Objectes a netejar / retirar 2023-01-01   \n",
       "\n",
       "             DISTRICTE                            BARRI  ANY_ALTA  \\\n",
       "0             Eixample               la Sagrada Família      2023   \n",
       "1             Eixample  l'Antiga Esquerra de l'Eixample      2023   \n",
       "2  Sarrià-Sant Gervasi       Sant Gervasi - la Bonanova      2023   \n",
       "3       Horta-Guinardó                         Can Baró      2023   \n",
       "4       Horta-Guinardó                      el Guinardó      2023   \n",
       "\n",
       "   MES_ALTA_NOMBRE MES_ALTA_NOM  TRIMESTRE_ALTA  \n",
       "0                1        Gener               1  \n",
       "1                1        Gener               1  \n",
       "2                1        Gener               1  \n",
       "3                1        Gener               1  \n",
       "4                1        Gener               1  "
      ]
     },
     "execution_count": 88,
     "metadata": {},
     "output_type": "execute_result"
    }
   ],
   "source": [
    "data_neteja['ANY_ALTA'] = data_neteja.DATA_ALTA.dt.year.astype(int)\n",
    "\n",
    "data_neteja['MES_ALTA_NOMBRE'] = data_neteja.DATA_ALTA.dt.month\n",
    "\n",
    "mesos = [{'nom_mes': 'Gener', 'nombre_mes': 1}, {'nom_mes': 'Febrer', 'nombre_mes': 2},\n",
    "         {'nom_mes': 'Març', 'nombre_mes': 3}, {'nom_mes': 'Abril', 'nombre_mes': 4},\n",
    "         {'nom_mes': 'Maig', 'nombre_mes': 5}, {'nom_mes': 'Juny', 'nombre_mes': 6},\n",
    "         {'nom_mes': 'Juliol', 'nombre_mes': 7}, {'nom_mes': 'Agost', 'nombre_mes': 8},\n",
    "         {'nom_mes': 'Setembre', 'nombre_mes': 9}, {'nom_mes': 'Octubre', 'nombre_mes': 10},\n",
    "         {'nom_mes': 'Novembre', 'nombre_mes': 11}, {'nom_mes': 'Desembre', 'nombre_mes': 12}]\n",
    "\n",
    "data_neteja['MES_ALTA_NOM'] = ''\n",
    "\n",
    "for mes in mesos:\n",
    "    nombre_mes = mes['nombre_mes']\n",
    "    nom_mes = mes['nom_mes']\n",
    "    mask = data_neteja.MES_ALTA_NOMBRE == nombre_mes\n",
    "    data_neteja.loc[mask, 'MES_ALTA_NOM'] = nom_mes\n",
    "\n",
    "data_neteja['TRIMESTRE_ALTA'] = data_neteja.DATA_ALTA.dt.quarter\n",
    "\n",
    "mask_2022 = data_neteja.ANY_ALTA == 2022\n",
    "\n",
    "data_neteja = data_neteja[mask_2022 == False].reset_index(drop=True)\n",
    "\n",
    "data_neteja.head()"
   ]
  },
  {
   "cell_type": "code",
   "execution_count": 93,
   "id": "735e3dce",
   "metadata": {},
   "outputs": [
    {
     "data": {
      "application/vnd.microsoft.datawrangler.viewer.v0+json": {
       "columns": [
        {
         "name": "index",
         "rawType": "int64",
         "type": "integer"
        },
        {
         "name": "ELEMENT",
         "rawType": "object",
         "type": "string"
        },
        {
         "name": "DISTRICTE",
         "rawType": "object",
         "type": "string"
        },
        {
         "name": "BARRI",
         "rawType": "object",
         "type": "string"
        },
        {
         "name": "ANY_ALTA",
         "rawType": "int64",
         "type": "integer"
        },
        {
         "name": "MES_ALTA_NOM",
         "rawType": "object",
         "type": "string"
        },
        {
         "name": "RECOMPTE",
         "rawType": "int64",
         "type": "integer"
        }
       ],
       "ref": "8bc18b85-96c9-4919-bda9-70e645d82aa8",
       "rows": [
        [
         "0",
         "Lavabo públic",
         "Ciutat Vella",
         "Sant Pere  Santa Caterina i la Ribera",
         "2023",
         "Agost",
         "1"
        ],
        [
         "1",
         "Lavabo públic",
         "Ciutat Vella",
         "Sant Pere  Santa Caterina i la Ribera",
         "2023",
         "Febrer",
         "1"
        ],
        [
         "2",
         "Lavabo públic",
         "Ciutat Vella",
         "Sant Pere  Santa Caterina i la Ribera",
         "2023",
         "Juliol",
         "5"
        ],
        [
         "3",
         "Lavabo públic",
         "Ciutat Vella",
         "Sant Pere  Santa Caterina i la Ribera",
         "2023",
         "Juny",
         "1"
        ],
        [
         "4",
         "Lavabo públic",
         "Ciutat Vella",
         "Sant Pere  Santa Caterina i la Ribera",
         "2023",
         "Setembre",
         "1"
        ]
       ],
       "shape": {
        "columns": 6,
        "rows": 5
       }
      },
      "text/html": [
       "<div>\n",
       "<style scoped>\n",
       "    .dataframe tbody tr th:only-of-type {\n",
       "        vertical-align: middle;\n",
       "    }\n",
       "\n",
       "    .dataframe tbody tr th {\n",
       "        vertical-align: top;\n",
       "    }\n",
       "\n",
       "    .dataframe thead th {\n",
       "        text-align: right;\n",
       "    }\n",
       "</style>\n",
       "<table border=\"1\" class=\"dataframe\">\n",
       "  <thead>\n",
       "    <tr style=\"text-align: right;\">\n",
       "      <th></th>\n",
       "      <th>ELEMENT</th>\n",
       "      <th>DISTRICTE</th>\n",
       "      <th>BARRI</th>\n",
       "      <th>ANY_ALTA</th>\n",
       "      <th>MES_ALTA_NOM</th>\n",
       "      <th>RECOMPTE</th>\n",
       "    </tr>\n",
       "  </thead>\n",
       "  <tbody>\n",
       "    <tr>\n",
       "      <th>0</th>\n",
       "      <td>Lavabo públic</td>\n",
       "      <td>Ciutat Vella</td>\n",
       "      <td>Sant Pere  Santa Caterina i la Ribera</td>\n",
       "      <td>2023</td>\n",
       "      <td>Agost</td>\n",
       "      <td>1</td>\n",
       "    </tr>\n",
       "    <tr>\n",
       "      <th>1</th>\n",
       "      <td>Lavabo públic</td>\n",
       "      <td>Ciutat Vella</td>\n",
       "      <td>Sant Pere  Santa Caterina i la Ribera</td>\n",
       "      <td>2023</td>\n",
       "      <td>Febrer</td>\n",
       "      <td>1</td>\n",
       "    </tr>\n",
       "    <tr>\n",
       "      <th>2</th>\n",
       "      <td>Lavabo públic</td>\n",
       "      <td>Ciutat Vella</td>\n",
       "      <td>Sant Pere  Santa Caterina i la Ribera</td>\n",
       "      <td>2023</td>\n",
       "      <td>Juliol</td>\n",
       "      <td>5</td>\n",
       "    </tr>\n",
       "    <tr>\n",
       "      <th>3</th>\n",
       "      <td>Lavabo públic</td>\n",
       "      <td>Ciutat Vella</td>\n",
       "      <td>Sant Pere  Santa Caterina i la Ribera</td>\n",
       "      <td>2023</td>\n",
       "      <td>Juny</td>\n",
       "      <td>1</td>\n",
       "    </tr>\n",
       "    <tr>\n",
       "      <th>4</th>\n",
       "      <td>Lavabo públic</td>\n",
       "      <td>Ciutat Vella</td>\n",
       "      <td>Sant Pere  Santa Caterina i la Ribera</td>\n",
       "      <td>2023</td>\n",
       "      <td>Setembre</td>\n",
       "      <td>1</td>\n",
       "    </tr>\n",
       "  </tbody>\n",
       "</table>\n",
       "</div>"
      ],
      "text/plain": [
       "         ELEMENT     DISTRICTE                                  BARRI  \\\n",
       "0  Lavabo públic  Ciutat Vella  Sant Pere  Santa Caterina i la Ribera   \n",
       "1  Lavabo públic  Ciutat Vella  Sant Pere  Santa Caterina i la Ribera   \n",
       "2  Lavabo públic  Ciutat Vella  Sant Pere  Santa Caterina i la Ribera   \n",
       "3  Lavabo públic  Ciutat Vella  Sant Pere  Santa Caterina i la Ribera   \n",
       "4  Lavabo públic  Ciutat Vella  Sant Pere  Santa Caterina i la Ribera   \n",
       "\n",
       "   ANY_ALTA MES_ALTA_NOM  RECOMPTE  \n",
       "0      2023        Agost         1  \n",
       "1      2023       Febrer         1  \n",
       "2      2023       Juliol         5  \n",
       "3      2023         Juny         1  \n",
       "4      2023     Setembre         1  "
      ]
     },
     "execution_count": 93,
     "metadata": {},
     "output_type": "execute_result"
    }
   ],
   "source": [
    "groupby_neteja = data_neteja.groupby(['ELEMENT', 'DISTRICTE', 'BARRI', 'ANY_ALTA', 'MES_ALTA_NOM']).size().reset_index(drop=False)\n",
    "groupby_neteja.columns = ['ELEMENT', 'DISTRICTE', 'BARRI', 'ANY_ALTA', 'MES_ALTA_NOM', 'RECOMPTE']\n",
    "\n",
    "groupby_neteja.head()"
   ]
  },
  {
   "cell_type": "code",
   "execution_count": 117,
   "id": "b355240d",
   "metadata": {},
   "outputs": [
    {
     "data": {
      "application/vnd.microsoft.datawrangler.viewer.v0+json": {
       "columns": [
        {
         "name": "index",
         "rawType": "int64",
         "type": "integer"
        },
        {
         "name": "Any_Referencia",
         "rawType": "object",
         "type": "string"
        },
        {
         "name": "Nom_Districte",
         "rawType": "object",
         "type": "string"
        },
        {
         "name": "Nom_Barri",
         "rawType": "object",
         "type": "string"
        },
        {
         "name": "Homes",
         "rawType": "int64",
         "type": "integer"
        },
        {
         "name": "Dones",
         "rawType": "int64",
         "type": "integer"
        },
        {
         "name": "Total",
         "rawType": "int64",
         "type": "integer"
        }
       ],
       "ref": "de54da57-45e0-4654-9696-3b583148f465",
       "rows": [
        [
         "0",
         "2023",
         "Ciutat Vella",
         "Sant Pere, Santa Caterina i la Ribera",
         "10868",
         "11173",
         "22041"
        ],
        [
         "1",
         "2023",
         "Ciutat Vella",
         "el Barri Gòtic",
         "15184",
         "9276",
         "24460"
        ],
        [
         "2",
         "2023",
         "Ciutat Vella",
         "el Raval",
         "24042",
         "21629",
         "45671"
        ],
        [
         "3",
         "2023",
         "Ciutat Vella",
         "la Barceloneta",
         "7042",
         "7232",
         "14274"
        ],
        [
         "4",
         "2023",
         "Eixample",
         "Sant Antoni",
         "18225",
         "20044",
         "38269"
        ]
       ],
       "shape": {
        "columns": 6,
        "rows": 5
       }
      },
      "text/html": [
       "<div>\n",
       "<style scoped>\n",
       "    .dataframe tbody tr th:only-of-type {\n",
       "        vertical-align: middle;\n",
       "    }\n",
       "\n",
       "    .dataframe tbody tr th {\n",
       "        vertical-align: top;\n",
       "    }\n",
       "\n",
       "    .dataframe thead th {\n",
       "        text-align: right;\n",
       "    }\n",
       "</style>\n",
       "<table border=\"1\" class=\"dataframe\">\n",
       "  <thead>\n",
       "    <tr style=\"text-align: right;\">\n",
       "      <th>TIPUS_AGREGACIO</th>\n",
       "      <th>Any_Referencia</th>\n",
       "      <th>Nom_Districte</th>\n",
       "      <th>Nom_Barri</th>\n",
       "      <th>Homes</th>\n",
       "      <th>Dones</th>\n",
       "      <th>Total</th>\n",
       "    </tr>\n",
       "  </thead>\n",
       "  <tbody>\n",
       "    <tr>\n",
       "      <th>0</th>\n",
       "      <td>2023</td>\n",
       "      <td>Ciutat Vella</td>\n",
       "      <td>Sant Pere, Santa Caterina i la Ribera</td>\n",
       "      <td>10868</td>\n",
       "      <td>11173</td>\n",
       "      <td>22041</td>\n",
       "    </tr>\n",
       "    <tr>\n",
       "      <th>1</th>\n",
       "      <td>2023</td>\n",
       "      <td>Ciutat Vella</td>\n",
       "      <td>el Barri Gòtic</td>\n",
       "      <td>15184</td>\n",
       "      <td>9276</td>\n",
       "      <td>24460</td>\n",
       "    </tr>\n",
       "    <tr>\n",
       "      <th>2</th>\n",
       "      <td>2023</td>\n",
       "      <td>Ciutat Vella</td>\n",
       "      <td>el Raval</td>\n",
       "      <td>24042</td>\n",
       "      <td>21629</td>\n",
       "      <td>45671</td>\n",
       "    </tr>\n",
       "    <tr>\n",
       "      <th>3</th>\n",
       "      <td>2023</td>\n",
       "      <td>Ciutat Vella</td>\n",
       "      <td>la Barceloneta</td>\n",
       "      <td>7042</td>\n",
       "      <td>7232</td>\n",
       "      <td>14274</td>\n",
       "    </tr>\n",
       "    <tr>\n",
       "      <th>4</th>\n",
       "      <td>2023</td>\n",
       "      <td>Eixample</td>\n",
       "      <td>Sant Antoni</td>\n",
       "      <td>18225</td>\n",
       "      <td>20044</td>\n",
       "      <td>38269</td>\n",
       "    </tr>\n",
       "  </tbody>\n",
       "</table>\n",
       "</div>"
      ],
      "text/plain": [
       "TIPUS_AGREGACIO Any_Referencia Nom_Districte  \\\n",
       "0                         2023  Ciutat Vella   \n",
       "1                         2023  Ciutat Vella   \n",
       "2                         2023  Ciutat Vella   \n",
       "3                         2023  Ciutat Vella   \n",
       "4                         2023      Eixample   \n",
       "\n",
       "TIPUS_AGREGACIO                              Nom_Barri  Homes  Dones  Total  \n",
       "0                Sant Pere, Santa Caterina i la Ribera  10868  11173  22041  \n",
       "1                                       el Barri Gòtic  15184   9276  24460  \n",
       "2                                             el Raval  24042  21629  45671  \n",
       "3                                       la Barceloneta   7042   7232  14274  \n",
       "4                                          Sant Antoni  18225  20044  38269  "
      ]
     },
     "execution_count": 117,
     "metadata": {},
     "output_type": "execute_result"
    }
   ],
   "source": [
    "groupby_demografia = data_demografia.groupby(['Any_Referencia', 'Nom_Districte', 'Nom_Barri', 'SEXE_DESCODIF']).sum().reset_index(drop=False)\n",
    "groupby_demografia.columns = ['Any_Referencia', 'Nom_Districte', 'Nom_Barri', 'TIPUS_AGREGACIO', 'Valor']\n",
    "groupby_demografia_totals = groupby_demografia.groupby(['Any_Referencia', 'Nom_Districte', 'Nom_Barri']).sum().reset_index(drop=False)\n",
    "groupby_demografia_totals.TIPUS_AGREGACIO = \"Total\"\n",
    "groupby_demografia_tot = pd.concat([groupby_demografia_totals, groupby_demografia], axis=0)\n",
    "\n",
    "df_wide = groupby_demografia_tot.pivot(index=['Any_Referencia', 'Nom_Districte', 'Nom_Barri'],\n",
    "                   columns='TIPUS_AGREGACIO',\n",
    "                   values='Valor').reset_index()\n",
    "\n",
    "cols_order = ['Any_Referencia', 'Nom_Districte', 'Nom_Barri', 'Homes', 'Dones', 'Total']\n",
    "df_wide = df_wide[cols_order]\n",
    "df_wide.head()\n"
   ]
  },
  {
   "cell_type": "code",
   "execution_count": 140,
   "id": "c6b50243",
   "metadata": {},
   "outputs": [
    {
     "data": {
      "application/vnd.microsoft.datawrangler.viewer.v0+json": {
       "columns": [
        {
         "name": "index",
         "rawType": "int64",
         "type": "integer"
        },
        {
         "name": "Nom_Districte",
         "rawType": "object",
         "type": "string"
        },
        {
         "name": "Nom_Barri",
         "rawType": "object",
         "type": "string"
        },
        {
         "name": "Superficie",
         "rawType": "float64",
         "type": "float"
        },
        {
         "name": "Superficie_Residencial",
         "rawType": "float64",
         "type": "float"
        }
       ],
       "ref": "ddbfc381-8863-49e0-a066-967d9add4cc2",
       "rows": [
        [
         "0",
         "Ciutat Vella",
         "el Raval",
         "110.0",
         "49.577"
        ],
        [
         "1",
         "Ciutat Vella",
         "el Barri Gòtic",
         "81.6",
         "34.15"
        ],
        [
         "2",
         "Ciutat Vella",
         "la Barceloneta",
         "117.9",
         "14.572"
        ],
        [
         "3",
         "Ciutat Vella",
         "Sant Pere, Santa Caterina i la Ribera",
         "111.0",
         "32.401"
        ],
        [
         "4",
         "Eixample",
         "el Fort Pienc",
         "92.9",
         "33.621"
        ]
       ],
       "shape": {
        "columns": 4,
        "rows": 5
       }
      },
      "text/html": [
       "<div>\n",
       "<style scoped>\n",
       "    .dataframe tbody tr th:only-of-type {\n",
       "        vertical-align: middle;\n",
       "    }\n",
       "\n",
       "    .dataframe tbody tr th {\n",
       "        vertical-align: top;\n",
       "    }\n",
       "\n",
       "    .dataframe thead th {\n",
       "        text-align: right;\n",
       "    }\n",
       "</style>\n",
       "<table border=\"1\" class=\"dataframe\">\n",
       "  <thead>\n",
       "    <tr style=\"text-align: right;\">\n",
       "      <th></th>\n",
       "      <th>Nom_Districte</th>\n",
       "      <th>Nom_Barri</th>\n",
       "      <th>Superficie</th>\n",
       "      <th>Superficie_Residencial</th>\n",
       "    </tr>\n",
       "  </thead>\n",
       "  <tbody>\n",
       "    <tr>\n",
       "      <th>0</th>\n",
       "      <td>Ciutat Vella</td>\n",
       "      <td>el Raval</td>\n",
       "      <td>110.0</td>\n",
       "      <td>49.577</td>\n",
       "    </tr>\n",
       "    <tr>\n",
       "      <th>1</th>\n",
       "      <td>Ciutat Vella</td>\n",
       "      <td>el Barri Gòtic</td>\n",
       "      <td>81.6</td>\n",
       "      <td>34.150</td>\n",
       "    </tr>\n",
       "    <tr>\n",
       "      <th>2</th>\n",
       "      <td>Ciutat Vella</td>\n",
       "      <td>la Barceloneta</td>\n",
       "      <td>117.9</td>\n",
       "      <td>14.572</td>\n",
       "    </tr>\n",
       "    <tr>\n",
       "      <th>3</th>\n",
       "      <td>Ciutat Vella</td>\n",
       "      <td>Sant Pere, Santa Caterina i la Ribera</td>\n",
       "      <td>111.0</td>\n",
       "      <td>32.401</td>\n",
       "    </tr>\n",
       "    <tr>\n",
       "      <th>4</th>\n",
       "      <td>Eixample</td>\n",
       "      <td>el Fort Pienc</td>\n",
       "      <td>92.9</td>\n",
       "      <td>33.621</td>\n",
       "    </tr>\n",
       "  </tbody>\n",
       "</table>\n",
       "</div>"
      ],
      "text/plain": [
       "  Nom_Districte                              Nom_Barri  Superficie  \\\n",
       "0  Ciutat Vella                               el Raval       110.0   \n",
       "1  Ciutat Vella                         el Barri Gòtic        81.6   \n",
       "2  Ciutat Vella                         la Barceloneta       117.9   \n",
       "3  Ciutat Vella  Sant Pere, Santa Caterina i la Ribera       111.0   \n",
       "4      Eixample                          el Fort Pienc        92.9   \n",
       "\n",
       "   Superficie_Residencial  \n",
       "0                  49.577  \n",
       "1                  34.150  \n",
       "2                  14.572  \n",
       "3                  32.401  \n",
       "4                  33.621  "
      ]
     },
     "execution_count": 140,
     "metadata": {},
     "output_type": "execute_result"
    }
   ],
   "source": [
    "data_superficie_residencial = pd.merge(data_superficie, data_prop_residencial, how='left', left_on='Nom_Barri', right_on='Territori')\n",
    "data_superficie_residencial['Superficie_Residencial'] = (data_superficie_residencial['Superficie'].astype(float) * data_superficie_residencial['2021'].astype(float) / 100.0).round(3)\n",
    "data_superficie_residencial = data_superficie_residencial[['Nom_Districte', 'Nom_Barri', 'Superficie', 'Superficie_Residencial']]\n",
    "\n",
    "data_superficie_residencial.head()\n"
   ]
  },
  {
   "cell_type": "code",
   "execution_count": null,
   "id": "288bb27a",
   "metadata": {},
   "outputs": [],
   "source": []
  }
 ],
 "metadata": {
  "kernelspec": {
   "display_name": "Python 3",
   "language": "python",
   "name": "python3"
  },
  "language_info": {
   "codemirror_mode": {
    "name": "ipython",
    "version": 3
   },
   "file_extension": ".py",
   "mimetype": "text/x-python",
   "name": "python",
   "nbconvert_exporter": "python",
   "pygments_lexer": "ipython3",
   "version": "3.12.4"
  }
 },
 "nbformat": 4,
 "nbformat_minor": 5
}
